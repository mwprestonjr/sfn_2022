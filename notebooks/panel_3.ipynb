{
 "cells": [
  {
   "cell_type": "markdown",
   "id": "ce4c183d",
   "metadata": {},
   "source": [
    "# Society for Neuroscience Annual Meeting, 2022\n",
    "# \\#8587 Population spike-synchrony contributes to the spectral exponent of aperiodic neural activity\n",
    "#### M. W. Preston, S. Fei, B. Voytek\n",
    "## Poster Panel \\#3: Decreases in correlated spiking activity recapitulate event-related shifts in the aperiodic exponent"
   ]
  },
  {
   "cell_type": "markdown",
   "id": "71a314ae",
   "metadata": {},
   "source": [
    "### Set-up"
   ]
  },
  {
   "cell_type": "markdown",
   "id": "bd8c029b",
   "metadata": {},
   "source": [
    "#### Imports"
   ]
  },
  {
   "cell_type": "code",
   "execution_count": 1,
   "id": "a6046b2b",
   "metadata": {},
   "outputs": [],
   "source": [
    "# general imports\n",
    "import numpy as np\n",
    "import pandas as pd\n",
    "\n",
    "import matplotlib.pyplot as plt\n",
    "from matplotlib import gridspec\n",
    "from matplotlib.colors import TwoSlopeNorm, Normalize\n",
    "from matplotlib.cm import ScalarMappable"
   ]
  },
  {
   "cell_type": "code",
   "execution_count": 2,
   "id": "21f9f0d9",
   "metadata": {},
   "outputs": [],
   "source": [
    "# spike analysis toolboxes\n",
    "\n",
    "# elephant\n",
    "# from elephant.conversion import BinnedSpikeTrain\n",
    "# from elephant.spike_train_correlation import correlation_coefficient, covariance\n",
    "\n",
    "# elephant reqs\n",
    "import neo\n",
    "import quantities as pq\n"
   ]
  },
  {
   "cell_type": "code",
   "execution_count": 3,
   "id": "603e1993",
   "metadata": {},
   "outputs": [],
   "source": [
    "# voytek lab imports\n",
    "# from neurodsp.spectral import compute_spectrum\n",
    "from neurodsp.utils import create_times\n"
   ]
  },
  {
   "cell_type": "code",
   "execution_count": 4,
   "id": "aa0f5996",
   "metadata": {},
   "outputs": [],
   "source": [
    "# project-specific imports\n",
    "import sys\n",
    "sys.path.append('C:/users/micha/projects/sfn_2022//scripts')\n",
    "# from utils import comp_exp, spiketimes_to_spiketrains, spikes_to_lfp\n"
   ]
  },
  {
   "cell_type": "markdown",
   "id": "8beac22f",
   "metadata": {},
   "source": [
    "#### Settings"
   ]
  },
  {
   "cell_type": "code",
   "execution_count": 5,
   "id": "2f90f2e0",
   "metadata": {},
   "outputs": [],
   "source": [
    "# directories\n",
    "PATH = \"C:/Users/micha/projects/sfn_2022\"\n",
    "DIR_FIG = PATH + \"/figures\"\n",
    "DIR_DATA = PATH + \"/data\"\n"
   ]
  },
  {
   "cell_type": "code",
   "execution_count": 6,
   "id": "d6cb736d",
   "metadata": {},
   "outputs": [],
   "source": [
    "# dataset details\n",
    "FS = 1000 # sampling frequency\n",
    "\n",
    "# figure appearance\n",
    "plt.style.use(PATH + '/stylelib/sfn_2022.mplstyle')\n",
    "COLORS = [\"#7570b3\", \"#1b9e77\", \"#d95f02\"]"
   ]
  },
  {
   "cell_type": "markdown",
   "id": "418806e5",
   "metadata": {},
   "source": [
    "#### Functions"
   ]
  },
  {
   "cell_type": "markdown",
   "id": "c9f6a7f0",
   "metadata": {},
   "source": [
    "### Main"
   ]
  },
  {
   "cell_type": "code",
   "execution_count": null,
   "id": "6fdf0bc7",
   "metadata": {},
   "outputs": [],
   "source": []
  }
 ],
 "metadata": {
  "kernelspec": {
   "display_name": "Python 3.7.13",
   "language": "python",
   "name": "python3"
  },
  "language_info": {
   "codemirror_mode": {
    "name": "ipython",
    "version": 3
   },
   "file_extension": ".py",
   "mimetype": "text/x-python",
   "name": "python",
   "nbconvert_exporter": "python",
   "pygments_lexer": "ipython3",
   "version": "3.7.13"
  },
  "vscode": {
   "interpreter": {
    "hash": "fabacce3e10c9be88e21d9376b3b89214dda3ccf0fb7469612604cc77110e784"
   }
  }
 },
 "nbformat": 4,
 "nbformat_minor": 5
}
